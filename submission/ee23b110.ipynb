{
 "cells": [
  {
   "cell_type": "code",
   "execution_count": 1,
   "id": "ca1c7468",
   "metadata": {
    "execution": {
     "iopub.execute_input": "2024-07-07T17:35:27.263352Z",
     "iopub.status.busy": "2024-07-07T17:35:27.262804Z",
     "iopub.status.idle": "2024-07-07T17:35:45.768437Z",
     "shell.execute_reply": "2024-07-07T17:35:45.767240Z"
    },
    "papermill": {
     "duration": 18.51529,
     "end_time": "2024-07-07T17:35:45.771546",
     "exception": false,
     "start_time": "2024-07-07T17:35:27.256256",
     "status": "completed"
    },
    "tags": []
   },
   "outputs": [
    {
     "name": "stderr",
     "output_type": "stream",
     "text": [
      "2024-07-07 17:35:30.873436: E external/local_xla/xla/stream_executor/cuda/cuda_dnn.cc:9261] Unable to register cuDNN factory: Attempting to register factory for plugin cuDNN when one has already been registered\n",
      "2024-07-07 17:35:30.873589: E external/local_xla/xla/stream_executor/cuda/cuda_fft.cc:607] Unable to register cuFFT factory: Attempting to register factory for plugin cuFFT when one has already been registered\n",
      "2024-07-07 17:35:31.035075: E external/local_xla/xla/stream_executor/cuda/cuda_blas.cc:1515] Unable to register cuBLAS factory: Attempting to register factory for plugin cuBLAS when one has already been registered\n"
     ]
    }
   ],
   "source": [
    "import pandas as pd\n",
    "import tensorflow as tf\n",
    "import numpy as np\n",
    "from sklearn.base import BaseEstimator, TransformerMixin\n",
    "from sklearn.preprocessing import OneHotEncoder, StandardScaler\n",
    "from sklearn.impute import SimpleImputer\n",
    "from sklearn.pipeline import Pipeline\n",
    "from sklearn.compose import ColumnTransformer\n",
    "from sklearn.model_selection import train_test_split\n",
    "from tensorflow.keras.models import Sequential\n",
    "from tensorflow.keras.layers import Dense, Input, LeakyReLU\n",
    "from tensorflow.keras.optimizers import Adam\n",
    "\n",
    "def dfchange(train_df):\n",
    "    train_df['Group'] = train_df['PassengerId'].apply(lambda x: x.split('_')[0])\n",
    "    train_df['Number'] = train_df['PassengerId'].apply(lambda x: x.split('_')[1])\n",
    "    train_df['GroupSize'] = train_df['Group'].apply(lambda x: int(x.lstrip('0')))\n",
    "    train_df['Side'] = train_df['Cabin'].str[-1]\n",
    "    train_df['CryoSleep'] = train_df['CryoSleep'].map({True: 1, False: 0})\n",
    "    train_df['CryoSleep'] = train_df['CryoSleep'].fillna(0.36)\n",
    "    train_df['Side'] = train_df['Side'].map({'P': 1, 'S': 0})\n",
    "    train_df['Side'] = train_df['Side'].fillna(0.5)\n",
    "    train_df['VIP'] = train_df['VIP'].map({True: 1, False: 0})\n",
    "    train_df['VIP'] = train_df['VIP'].fillna(0.03)\n",
    "    return train_df"
   ]
  },
  {
   "cell_type": "code",
   "execution_count": 2,
   "id": "8e8089c0",
   "metadata": {
    "execution": {
     "iopub.execute_input": "2024-07-07T17:35:45.781178Z",
     "iopub.status.busy": "2024-07-07T17:35:45.780298Z",
     "iopub.status.idle": "2024-07-07T17:35:45.883754Z",
     "shell.execute_reply": "2024-07-07T17:35:45.882599Z"
    },
    "papermill": {
     "duration": 0.111343,
     "end_time": "2024-07-07T17:35:45.886776",
     "exception": false,
     "start_time": "2024-07-07T17:35:45.775433",
     "status": "completed"
    },
    "tags": []
   },
   "outputs": [],
   "source": [
    "# Load the training data\n",
    "train_df = pd.read_csv('/kaggle/input/summer-school-24-25-hackathon/train.csv')\n",
    "train_df = dfchange(train_df)"
   ]
  },
  {
   "cell_type": "code",
   "execution_count": 3,
   "id": "ca467bc9",
   "metadata": {
    "execution": {
     "iopub.execute_input": "2024-07-07T17:35:45.896247Z",
     "iopub.status.busy": "2024-07-07T17:35:45.895255Z",
     "iopub.status.idle": "2024-07-07T17:35:45.984156Z",
     "shell.execute_reply": "2024-07-07T17:35:45.982627Z"
    },
    "papermill": {
     "duration": 0.097062,
     "end_time": "2024-07-07T17:35:45.987249",
     "exception": false,
     "start_time": "2024-07-07T17:35:45.890187",
     "status": "completed"
    },
    "tags": []
   },
   "outputs": [],
   "source": [
    "# Separate features and target variable\n",
    "X = train_df.drop(columns=['Transported', 'Name', 'PassengerId', 'Group', 'Cabin'])\n",
    "y = train_df['Transported'].astype(int)\n",
    "\n",
    "X.to_csv('/kaggle/working/updatedtrain.csv', index=False)\n",
    "\n",
    "# Define preprocessing for numerical and categorical features\n",
    "numerical_features = ['Age', 'VIP', 'RoomService', 'FoodCourt', 'ShoppingMall', 'Spa', 'VRDeck', 'GroupSize', 'Number', 'CryoSleep', 'Side']\n",
    "categorical_features = ['HomePlanet', 'Destination']"
   ]
  },
  {
   "cell_type": "code",
   "execution_count": 4,
   "id": "e152821a",
   "metadata": {
    "execution": {
     "iopub.execute_input": "2024-07-07T17:35:45.995937Z",
     "iopub.status.busy": "2024-07-07T17:35:45.995420Z",
     "iopub.status.idle": "2024-07-07T17:35:46.080115Z",
     "shell.execute_reply": "2024-07-07T17:35:46.078718Z"
    },
    "papermill": {
     "duration": 0.092725,
     "end_time": "2024-07-07T17:35:46.083292",
     "exception": false,
     "start_time": "2024-07-07T17:35:45.990567",
     "status": "completed"
    },
    "tags": []
   },
   "outputs": [],
   "source": [
    "# Preprocessing pipelines for both numerical and categorical data\n",
    "numerical_transformer = Pipeline(steps=[\n",
    "    ('imputer', SimpleImputer(strategy='median')),\n",
    "    ('scaler', StandardScaler())\n",
    "])\n",
    "\n",
    "categorical_transformer = Pipeline(steps=[\n",
    "    ('imputer', SimpleImputer(strategy='most_frequent')),\n",
    "    ('onehot', OneHotEncoder(handle_unknown='ignore'))\n",
    "])\n",
    "\n",
    "# Combine preprocessing for numerical and categorical data\n",
    "preprocessor = ColumnTransformer(\n",
    "    transformers=[\n",
    "        ('num', numerical_transformer, numerical_features),\n",
    "        ('cat', categorical_transformer, categorical_features)\n",
    "    ])\n",
    "\n",
    "# Preprocess the features\n",
    "X_preprocessed = preprocessor.fit_transform(X)\n",
    "\n",
    "# Split the data into training and test sets with stratified split\n",
    "X_train, X_test, y_train, y_test = train_test_split(X_preprocessed, y, test_size=0.2, random_state=42, stratify=y)"
   ]
  },
  {
   "cell_type": "code",
   "execution_count": 5,
   "id": "b4f2f027",
   "metadata": {
    "execution": {
     "iopub.execute_input": "2024-07-07T17:35:46.092328Z",
     "iopub.status.busy": "2024-07-07T17:35:46.091812Z",
     "iopub.status.idle": "2024-07-07T17:35:46.205315Z",
     "shell.execute_reply": "2024-07-07T17:35:46.204071Z"
    },
    "papermill": {
     "duration": 0.121567,
     "end_time": "2024-07-07T17:35:46.208475",
     "exception": false,
     "start_time": "2024-07-07T17:35:46.086908",
     "status": "completed"
    },
    "tags": []
   },
   "outputs": [],
   "source": [
    "# Build the neural network model\n",
    "model = Sequential([\n",
    "    Input(shape=(X_train.shape[1],)),\n",
    "    Dense(64, activation='tanh'),\n",
    "    Dense(32, activation='tanh'),\n",
    "    Dense(1, activation='sigmoid')  # Output layer with sigmoid activation\n",
    "])\n",
    "\n",
    "# Compile the model\n",
    "model.compile(optimizer='adam', loss='mean_squared_error', metrics=['accuracy'])"
   ]
  },
  {
   "cell_type": "code",
   "execution_count": 6,
   "id": "681ad57b",
   "metadata": {
    "execution": {
     "iopub.execute_input": "2024-07-07T17:35:46.217135Z",
     "iopub.status.busy": "2024-07-07T17:35:46.216629Z",
     "iopub.status.idle": "2024-07-07T17:35:56.837663Z",
     "shell.execute_reply": "2024-07-07T17:35:56.835773Z"
    },
    "papermill": {
     "duration": 10.628703,
     "end_time": "2024-07-07T17:35:56.840506",
     "exception": false,
     "start_time": "2024-07-07T17:35:46.211803",
     "status": "completed"
    },
    "tags": []
   },
   "outputs": [
    {
     "name": "stdout",
     "output_type": "stream",
     "text": [
      "Epoch 1/20\n",
      "\u001b[1m174/174\u001b[0m \u001b[32m━━━━━━━━━━━━━━━━━━━━\u001b[0m\u001b[37m\u001b[0m \u001b[1m2s\u001b[0m 3ms/step - accuracy: 0.7338 - loss: 0.1794 - val_accuracy: 0.7922 - val_loss: 0.1461\n",
      "Epoch 2/20\n",
      "\u001b[1m174/174\u001b[0m \u001b[32m━━━━━━━━━━━━━━━━━━━━\u001b[0m\u001b[37m\u001b[0m \u001b[1m0s\u001b[0m 2ms/step - accuracy: 0.7955 - loss: 0.1451 - val_accuracy: 0.7994 - val_loss: 0.1429\n",
      "Epoch 3/20\n",
      "\u001b[1m174/174\u001b[0m \u001b[32m━━━━━━━━━━━━━━━━━━━━\u001b[0m\u001b[37m\u001b[0m \u001b[1m0s\u001b[0m 2ms/step - accuracy: 0.7882 - loss: 0.1432 - val_accuracy: 0.7944 - val_loss: 0.1422\n",
      "Epoch 4/20\n",
      "\u001b[1m174/174\u001b[0m \u001b[32m━━━━━━━━━━━━━━━━━━━━\u001b[0m\u001b[37m\u001b[0m \u001b[1m0s\u001b[0m 2ms/step - accuracy: 0.7969 - loss: 0.1416 - val_accuracy: 0.7951 - val_loss: 0.1426\n",
      "Epoch 5/20\n",
      "\u001b[1m174/174\u001b[0m \u001b[32m━━━━━━━━━━━━━━━━━━━━\u001b[0m\u001b[37m\u001b[0m \u001b[1m0s\u001b[0m 2ms/step - accuracy: 0.7967 - loss: 0.1401 - val_accuracy: 0.8037 - val_loss: 0.1411\n",
      "Epoch 6/20\n",
      "\u001b[1m174/174\u001b[0m \u001b[32m━━━━━━━━━━━━━━━━━━━━\u001b[0m\u001b[37m\u001b[0m \u001b[1m1s\u001b[0m 3ms/step - accuracy: 0.7881 - loss: 0.1407 - val_accuracy: 0.7951 - val_loss: 0.1419\n",
      "Epoch 7/20\n",
      "\u001b[1m174/174\u001b[0m \u001b[32m━━━━━━━━━━━━━━━━━━━━\u001b[0m\u001b[37m\u001b[0m \u001b[1m0s\u001b[0m 2ms/step - accuracy: 0.8034 - loss: 0.1335 - val_accuracy: 0.8030 - val_loss: 0.1379\n",
      "Epoch 8/20\n",
      "\u001b[1m174/174\u001b[0m \u001b[32m━━━━━━━━━━━━━━━━━━━━\u001b[0m\u001b[37m\u001b[0m \u001b[1m0s\u001b[0m 2ms/step - accuracy: 0.7948 - loss: 0.1421 - val_accuracy: 0.8001 - val_loss: 0.1385\n",
      "Epoch 9/20\n",
      "\u001b[1m174/174\u001b[0m \u001b[32m━━━━━━━━━━━━━━━━━━━━\u001b[0m\u001b[37m\u001b[0m \u001b[1m0s\u001b[0m 2ms/step - accuracy: 0.8073 - loss: 0.1357 - val_accuracy: 0.8001 - val_loss: 0.1368\n",
      "Epoch 10/20\n",
      "\u001b[1m174/174\u001b[0m \u001b[32m━━━━━━━━━━━━━━━━━━━━\u001b[0m\u001b[37m\u001b[0m \u001b[1m0s\u001b[0m 2ms/step - accuracy: 0.7999 - loss: 0.1366 - val_accuracy: 0.8009 - val_loss: 0.1386\n",
      "Epoch 11/20\n",
      "\u001b[1m174/174\u001b[0m \u001b[32m━━━━━━━━━━━━━━━━━━━━\u001b[0m\u001b[37m\u001b[0m \u001b[1m0s\u001b[0m 2ms/step - accuracy: 0.8118 - loss: 0.1319 - val_accuracy: 0.7901 - val_loss: 0.1375\n",
      "Epoch 12/20\n",
      "\u001b[1m174/174\u001b[0m \u001b[32m━━━━━━━━━━━━━━━━━━━━\u001b[0m\u001b[37m\u001b[0m \u001b[1m0s\u001b[0m 2ms/step - accuracy: 0.8132 - loss: 0.1319 - val_accuracy: 0.7965 - val_loss: 0.1379\n",
      "Epoch 13/20\n",
      "\u001b[1m174/174\u001b[0m \u001b[32m━━━━━━━━━━━━━━━━━━━━\u001b[0m\u001b[37m\u001b[0m \u001b[1m0s\u001b[0m 2ms/step - accuracy: 0.8078 - loss: 0.1309 - val_accuracy: 0.7908 - val_loss: 0.1365\n",
      "Epoch 14/20\n",
      "\u001b[1m174/174\u001b[0m \u001b[32m━━━━━━━━━━━━━━━━━━━━\u001b[0m\u001b[37m\u001b[0m \u001b[1m0s\u001b[0m 2ms/step - accuracy: 0.8061 - loss: 0.1292 - val_accuracy: 0.8023 - val_loss: 0.1378\n",
      "Epoch 15/20\n",
      "\u001b[1m174/174\u001b[0m \u001b[32m━━━━━━━━━━━━━━━━━━━━\u001b[0m\u001b[37m\u001b[0m \u001b[1m0s\u001b[0m 2ms/step - accuracy: 0.8020 - loss: 0.1346 - val_accuracy: 0.7980 - val_loss: 0.1378\n",
      "Epoch 16/20\n",
      "\u001b[1m174/174\u001b[0m \u001b[32m━━━━━━━━━━━━━━━━━━━━\u001b[0m\u001b[37m\u001b[0m \u001b[1m0s\u001b[0m 2ms/step - accuracy: 0.8042 - loss: 0.1341 - val_accuracy: 0.8059 - val_loss: 0.1350\n",
      "Epoch 17/20\n",
      "\u001b[1m174/174\u001b[0m \u001b[32m━━━━━━━━━━━━━━━━━━━━\u001b[0m\u001b[37m\u001b[0m \u001b[1m0s\u001b[0m 2ms/step - accuracy: 0.8144 - loss: 0.1276 - val_accuracy: 0.7958 - val_loss: 0.1356\n",
      "Epoch 18/20\n",
      "\u001b[1m174/174\u001b[0m \u001b[32m━━━━━━━━━━━━━━━━━━━━\u001b[0m\u001b[37m\u001b[0m \u001b[1m0s\u001b[0m 2ms/step - accuracy: 0.8172 - loss: 0.1261 - val_accuracy: 0.7915 - val_loss: 0.1364\n",
      "Epoch 19/20\n",
      "\u001b[1m174/174\u001b[0m \u001b[32m━━━━━━━━━━━━━━━━━━━━\u001b[0m\u001b[37m\u001b[0m \u001b[1m0s\u001b[0m 2ms/step - accuracy: 0.8022 - loss: 0.1316 - val_accuracy: 0.8037 - val_loss: 0.1377\n",
      "Epoch 20/20\n",
      "\u001b[1m174/174\u001b[0m \u001b[32m━━━━━━━━━━━━━━━━━━━━\u001b[0m\u001b[37m\u001b[0m \u001b[1m0s\u001b[0m 2ms/step - accuracy: 0.8110 - loss: 0.1303 - val_accuracy: 0.7958 - val_loss: 0.1397\n",
      "\u001b[1m55/55\u001b[0m \u001b[32m━━━━━━━━━━━━━━━━━━━━\u001b[0m\u001b[37m\u001b[0m \u001b[1m0s\u001b[0m 1ms/step - accuracy: 0.7824 - loss: 0.1401\n",
      "Test Accuracy: 79.53%\n"
     ]
    }
   ],
   "source": [
    "# Train the model\n",
    "history = model.fit(X_train, y_train, epochs=20, batch_size=32, validation_split=0.2)\n",
    "\n",
    "# Evaluate the model on test data\n",
    "loss, accuracy = model.evaluate(X_test, y_test)\n",
    "print(f\"Test Accuracy: {accuracy * 100:.2f}%\")"
   ]
  },
  {
   "cell_type": "code",
   "execution_count": 7,
   "id": "dd9816bf",
   "metadata": {
    "execution": {
     "iopub.execute_input": "2024-07-07T17:35:56.872395Z",
     "iopub.status.busy": "2024-07-07T17:35:56.871893Z",
     "iopub.status.idle": "2024-07-07T17:35:57.394333Z",
     "shell.execute_reply": "2024-07-07T17:35:57.393031Z"
    },
    "papermill": {
     "duration": 0.542017,
     "end_time": "2024-07-07T17:35:57.397461",
     "exception": false,
     "start_time": "2024-07-07T17:35:56.855444",
     "status": "completed"
    },
    "tags": []
   },
   "outputs": [
    {
     "name": "stdout",
     "output_type": "stream",
     "text": [
      "\u001b[1m134/134\u001b[0m \u001b[32m━━━━━━━━━━━━━━━━━━━━\u001b[0m\u001b[37m\u001b[0m \u001b[1m0s\u001b[0m 2ms/step\n"
     ]
    }
   ],
   "source": [
    "# Load the test data\n",
    "test_df = pd.read_csv('/kaggle/input/summer-school-24-25-hackathon/test.csv')\n",
    "test_df = dfchange(test_df)\n",
    "\n",
    "# Separate the features from the test dataset\n",
    "X_test_final = test_df.drop(columns=['Name', 'PassengerId', 'Group', 'Cabin'])\n",
    "\n",
    "# Preprocess the test features\n",
    "X_test_final_preprocessed = preprocessor.transform(X_test_final)\n",
    "\n",
    "# Make predictions using the trained model\n",
    "predictions = model.predict(X_test_final_preprocessed)\n",
    "\n",
    "# Convert predictions to boolean values (True/False)\n",
    "predicted_transportation = (predictions >= 0.5).astype(bool).flatten()\n",
    "\n",
    "# Create a DataFrame with PassengerId and Transported columns\n",
    "submission_df = pd.DataFrame({\n",
    "    'PassengerId': test_df['PassengerId'],\n",
    "    'Transported': predicted_transportation\n",
    "})\n",
    "\n",
    "# Save the DataFrame to a CSV file\n",
    "submission_df.to_csv('/kaggle/working/susmission leakyrelu+crossentropy.csv', index=False)"
   ]
  }
 ],
 "metadata": {
  "kaggle": {
   "accelerator": "none",
   "dataSources": [
    {
     "databundleVersionId": 9007186,
     "sourceId": 82482,
     "sourceType": "competition"
    }
   ],
   "dockerImageVersionId": 30732,
   "isGpuEnabled": false,
   "isInternetEnabled": false,
   "language": "python",
   "sourceType": "notebook"
  },
  "kernelspec": {
   "display_name": "Python 3",
   "language": "python",
   "name": "python3"
  },
  "language_info": {
   "codemirror_mode": {
    "name": "ipython",
    "version": 3
   },
   "file_extension": ".py",
   "mimetype": "text/x-python",
   "name": "python",
   "nbconvert_exporter": "python",
   "pygments_lexer": "ipython3",
   "version": "3.10.13"
  },
  "papermill": {
   "default_parameters": {},
   "duration": 35.623523,
   "end_time": "2024-07-07T17:35:59.343775",
   "environment_variables": {},
   "exception": null,
   "input_path": "__notebook__.ipynb",
   "output_path": "__notebook__.ipynb",
   "parameters": {},
   "start_time": "2024-07-07T17:35:23.720252",
   "version": "2.5.0"
  }
 },
 "nbformat": 4,
 "nbformat_minor": 5
}
